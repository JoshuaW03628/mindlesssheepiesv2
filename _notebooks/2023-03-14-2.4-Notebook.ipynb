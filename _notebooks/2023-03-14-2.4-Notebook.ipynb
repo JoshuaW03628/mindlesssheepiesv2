{
 "cells": [
  {
   "attachments": {},
   "cell_type": "markdown",
   "metadata": {},
   "source": [
    "#  Unit 2.4 Jupyter Notebook With Table\n",
    "> using pandas to make a table.\n",
    "- toc: true\n",
    "- categories: [Notebooks]\n",
    "- week: 26"
   ]
  },
  {
   "attachments": {},
   "cell_type": "markdown",
   "metadata": {},
   "source": [
    "## Jupyter Notebook With Table."
   ]
  },
  {
   "cell_type": "code",
   "execution_count": null,
   "metadata": {},
   "outputs": [],
   "source": [
    "import pandas as pd\n",
    "\n",
    "# Read CSV file into a Pandas DataFrame\n",
    "df = pd.read_csv('/Users/josh/Downloads/archive/player_data.csv')\n",
    "\n",
    "# Display the DataFrame\n",
    "print(df.head())"
   ]
  },
  {
   "cell_type": "code",
   "execution_count": null,
   "metadata": {},
   "outputs": [],
   "source": [
    "# Get summary statistics of the DataFrame\n",
    "print(df.describe())"
   ]
  },
  {
   "attachments": {},
   "cell_type": "markdown",
   "metadata": {},
   "source": [
    "Gathering info on all people in the csv file and giving the max, min, mean and percentiles for weight in lbs."
   ]
  },
  {
   "cell_type": "code",
   "execution_count": 15,
   "metadata": {},
   "outputs": [
    {
     "name": "stdout",
     "output_type": "stream",
     "text": [
      "Enter 1 to create a player.\n",
      "Enter 2 to read all players.\n",
      "Enter 3 to read a specific player.\n",
      "Enter 4 to update a player.\n",
      "Enter 5 to delete a player.\n",
      "('Wilt Chamberlain', '1949', '1960')\n"
     ]
    }
   ],
   "source": [
    "import sqlite3\n",
    "\n",
    "# Create a connection to the database\n",
    "conn = sqlite3.connect(\"nba.db\")\n",
    "c = conn.cursor()\n",
    "\n",
    "# Create the table if it doesn't exist\n",
    "c.execute('''CREATE TABLE IF NOT EXISTS players\n",
    "             (name text, year_start text, year_end text)''')\n",
    "\n",
    "def create_player(name, year_start, year_end):\n",
    "    c.execute(\"INSERT INTO players (name, year_start, year_end) VALUES (?, ?, ?)\", (name, year_start, year_end))\n",
    "    conn.commit()\n",
    "    print(\"Player data implemented\")\n",
    "\n",
    "def read_players():\n",
    "    c.execute(\"SELECT * FROM players\")\n",
    "    rows = c.fetchall()\n",
    "    for row in rows:\n",
    "        print(row)\n",
    "\n",
    "def read_player(name):\n",
    "    c.execute(\"SELECT * FROM players WHERE name=?\", (name,))\n",
    "    row = c.fetchone()\n",
    "    if row:\n",
    "        print(row)\n",
    "    else:\n",
    "        print(\"Player not found.\")\n",
    "\n",
    "def update_player(name, year_start, year_end):\n",
    "    c.execute(\"UPDATE players SET year_start=?, year_end=? WHERE name=?\", (year_start, year_end, name))\n",
    "    conn.commit()\n",
    "    print(\"Player updated successfully.\")\n",
    "\n",
    "def delete_player(name):\n",
    "    c.execute(\"DELETE FROM players WHERE name=?\", (name,))\n",
    "    conn.commit()\n",
    "    print(\"Player deleted successfully.\")\n",
    "\n",
    "# Get user input to decide which function to use\n",
    "print(\"Enter 1 to create a player.\")\n",
    "print(\"Enter 2 to read all players.\")\n",
    "print(\"Enter 3 to read a specific player.\")\n",
    "print(\"Enter 4 to update a player.\")\n",
    "print(\"Enter 5 to delete a player.\")\n",
    "choice = input(\"Choice: \")\n",
    "\n",
    "# Call the appropriate function based on user input\n",
    "if choice == \"1\":\n",
    "    name = input(\"Enter the name: \")\n",
    "    year_start = input(\"Enter the year_start: \")\n",
    "    year_end = input(\"Enter the year_end: \")\n",
    "    create_player(name, year_start, year_end)\n",
    "elif choice == \"2\":\n",
    "    read_players()\n",
    "elif choice == \"3\":\n",
    "    name = input(\"Enter the player name: \")\n",
    "    read_player(name)\n",
    "elif choice == \"4\":\n",
    "    name = input(\"Enter the name: \")\n",
    "    year_start = input(\"Enter the new year_start: \")\n",
    "    year_end = input(\"Enter the new year_end: \")\n",
    "    update_player(name, year_start, year_end)\n",
    "elif choice == \"5\":\n",
    "    name = input(\"Enter the name: \")\n",
    "    delete_player(name)\n",
    "else:\n",
    "    print(\"Invalid choice.\")\n",
    "\n",
    "# Close the database connection\n",
    "conn.close()\n"
   ]
  }
 ],
 "metadata": {
  "kernelspec": {
   "display_name": "base",
   "language": "python",
   "name": "python3"
  },
  "language_info": {
   "codemirror_mode": {
    "name": "ipython",
    "version": 3
   },
   "file_extension": ".py",
   "mimetype": "text/x-python",
   "name": "python",
   "nbconvert_exporter": "python",
   "pygments_lexer": "ipython3",
   "version": "3.9.12"
  },
  "orig_nbformat": 4
 },
 "nbformat": 4,
 "nbformat_minor": 2
}
