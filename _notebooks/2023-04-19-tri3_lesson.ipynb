{
 "cells": [
  {
   "attachments": {},
   "cell_type": "markdown",
   "metadata": {},
   "source": [
    "# Lesson Portion 1: ReIntroduction to Data Analysis, NunPy, and Pandas"
   ]
  },
  {
   "attachments": {},
   "cell_type": "markdown",
   "metadata": {},
   "source": [
    "### Data Analysis"
   ]
  },
  {
   "attachments": {},
   "cell_type": "markdown",
   "metadata": {},
   "source": [
    "Data Analysis is the process of examining data sets in order to find trends and draw conclusions about the given information. Data analysis is important because it helps businesses optimize their performances."
   ]
  },
  {
   "attachments": {},
   "cell_type": "markdown",
   "metadata": {},
   "source": [
    "### What is NunPy and Pandas"
   ]
  },
  {
   "attachments": {},
   "cell_type": "markdown",
   "metadata": {},
   "source": [
    "Pandas library involves a lot of data analysis in Python. NumPy Library is mostly used for working with numerical values and it makes it easy to apply with mathematical functions."
   ]
  },
  {
   "attachments": {},
   "cell_type": "markdown",
   "metadata": {},
   "source": [
    "# Lesson Portion 2\n",
    "\n",
    "### What we are covering;\n",
    "\n",
    "- Explanation of NumPy and its uses in data analysis\n",
    "- Importing NumPy library\n",
    "- Creating NumPy arrays and performing intermediate array operations\n",
    "- Example of using NumPy for mathematical operations on data"
   ]
  },
  {
   "attachments": {},
   "cell_type": "markdown",
   "metadata": {},
   "source": [
    "### Explanation of NunPy and its use in Data Analysis"
   ]
  },
  {
   "attachments": {},
   "cell_type": "markdown",
   "metadata": {},
   "source": [
    "#### What is NunPy's use in data analysis/ how to import NunPy."
   ]
  },
  {
   "attachments": {},
   "cell_type": "markdown",
   "metadata": {},
   "source": [
    "NumPy is a tool in Python that helps with doing math and data analysis. It's great for working with large amounts of data, like numbers in a spreadsheet. NumPy is really good at doing calculations quickly and accurately, like finding averages, doing algebra, and making graphs. It's used a lot by scientists and people who work with data because it makes their work easier and faster."
   ]
  },
  {
   "cell_type": "code",
   "execution_count": null,
   "metadata": {},
   "outputs": [],
   "source": [
    "import numpy as np"
   ]
  },
  {
   "attachments": {},
   "cell_type": "markdown",
   "metadata": {},
   "source": [
    "## Activity 1; Creating a NunPy Array and Analyzing the Data using Array Operations"
   ]
  },
  {
   "cell_type": "code",
   "execution_count": null,
   "metadata": {},
   "outputs": [],
   "source": [
    "import numpy as np\n",
    "\n",
    "# Create a NumPy array of the heights of players in a basketball team\n",
    "heights = np.array([192, 195, 193, 200, 211, 199, 201, 198, 184, 190, 196, 203, 208, 182, 207])\n",
    "\n",
    "# Calculate the percentile rank of each player's height\n",
    "percentiles = np.percentile(heights, [25, 50, 75])\n",
    "\n",
    "# Print the results\n",
    "print(\"The 25th percentile height is\", percentiles[0], \"cm.\")\n",
    "print(\"The 50th percentile height is\", percentiles[1], \"cm.\")\n",
    "print(\"The 75th percentile height is\", percentiles[2], \"cm.\")\n",
    "\n",
    "# Determine the number of players who are in the top 10% tallest\n",
    "top_10_percent = np.percentile(heights, 90)\n",
    "tallest_players = heights[heights >= top_10_percent]\n",
    "\n",
    "print(\"There are\", len(tallest_players), \"players in the top 10% tallest.\")\n"
   ]
  },
  {
   "attachments": {},
   "cell_type": "markdown",
   "metadata": {},
   "source": [
    "### Activity 2: Create Your Own NunPy Array"
   ]
  },
  {
   "cell_type": "code",
   "execution_count": null,
   "metadata": {},
   "outputs": [],
   "source": [
    "# Starter Code\n",
    "\n",
    "import numpy as np\n",
    "\n",
    "# Create a NumPy array of the x\n",
    "x = np.array([])\n",
    "\n",
    "# Calculate the percentile rank of x\n",
    "y = np.percentile(x, [])\n",
    "\n",
    "# Print the results\n",
    "print(\"\", percentiles[0], \"\")\n",
    "print(\"\", percentiles[1], \"\")\n",
    "print(\"\", percentiles[2], \"\")\n",
    "\n",
    "# Determine the number of players who are in the top 10% x\n",
    "t = np.percentile(x, 90)\n",
    "z = x[x >= t]\n",
    "\n",
    "print(\"There are\", len(z), \"players in the top 10% (x).\")\n"
   ]
  },
  {
   "attachments": {},
   "cell_type": "markdown",
   "metadata": {},
   "source": [
    "# Lesson Portion 3"
   ]
  },
  {
   "attachments": {},
   "cell_type": "markdown",
   "metadata": {},
   "source": [
    "# Lesson Portion 4"
   ]
  },
  {
   "attachments": {},
   "cell_type": "markdown",
   "metadata": {},
   "source": [
    "#### Pandas\n",
    "- What is it: Pandas is like a virtual spreadsheet for data in Python. It is an open-source data manipulation and analysis library for Python that provides data structures for efficiently storing and manipulating labeled data\n",
    "- Why it's useful: Pandas makes it easy to manipulate, analyze, and visualize data in Python. It provides powerful tools for cleaning and transforming data, working with missing or inconsistent values, and merging or joining multiple datasets. This makes it useful for a wide range of data analysis tasks, from simple data exploration to advanced statistical modeling. Pandas also integrates with other data analysis and visualization libraries in Python, such as Matplotlib and Seaborn."
   ]
  },
  {
   "attachments": {},
   "cell_type": "markdown",
   "metadata": {},
   "source": [
    "#### NumPys\n",
    "- What is it: NumPy is like a calculator for big numbers in Python. It is a powerful scientific computing library for Python used for calculating mathmatical operations on arrays, this includes algebra.\n",
    "- Why it's useful: NumPy makes it easy to perform complex mathematical operations on large sets of data in Python. It allows for fast computation and manipulation of arrays."
   ]
  },
  {
   "cell_type": "code",
   "execution_count": null,
   "metadata": {},
   "outputs": [],
   "source": [
    "import pandas as pd\n",
    "# Load the CSV file into a Pandas DataFrame\n",
    "df = pd.read_csv('nba_player_stats.csv')\n",
    "# Filter the DataFrame to only include stats for a specific player (in this case, Jimmy Butler)\n",
    "player_name = 'Jimmy Butler'\n",
    "player_stats = df[df['NAME'] == player_name]\n",
    "# Display the stats for the player\n",
    "print(f\"\\nStats for {player_name}:\")\n",
    "print(player_stats[['PPG', 'RPG', 'APG']])"
   ]
  },
  {
   "attachments": {},
   "cell_type": "markdown",
   "metadata": {},
   "source": [
    "#### In this code segment below we use Pandas to read a CSV file containing NBA player statistics and store it in a DataFrame.\n",
    "#### The reason Pandas is useful in this scenario is because it provides various functionalities to filter, sort, and manipulate the NBA data efficiently. In this code, the DataFrame is filtered to only include the stats for the player you guys choose."
   ]
  },
  {
   "cell_type": "code",
   "execution_count": null,
   "metadata": {},
   "outputs": [],
   "source": [
    "import pandas as pd\n",
    "df = pd.read_csv('nba_player_stats.csv')\n",
    "# Load CSV file into a Pandas DataFrame\n",
    "player_name = input(\"Enter player name: \")\n",
    "# Get player name input from user\n",
    "player_stats = df[df['NAME'] == player_name]\n",
    "# Filter the DataFrame to only include stats for the specified player\n",
    "if player_stats.empty:\n",
    "    print(\"No stats found for that player.\")\n",
    "else:\n",
    "# Check if the player exists in the DataFrame\n",
    "    print(f\"\\nStats for {player_name}:\")\n",
    "print(player_stats[['PPG', 'RPG', 'APG', 'P+R+A']])\n",
    "# Display the stats for the player inputted."
   ]
  },
  {
   "attachments": {},
   "cell_type": "markdown",
   "metadata": {},
   "source": [
    "# Hack Problem\n",
    "- Use this link https://github.com/ali-ce/datasets to select a topic you are interested in.\n",
    "- Once you select your topic make sure it is a csv file and then you want to press on the button that says raw\n",
    "- After that copy that information and create a file with a name and .csv at the end and paste your information\n",
    "- Below is a start that you can use for your hacks\n",
    "- Your goal is to print 2 specific parts from data (example could be like population and country)"
   ]
  },
  {
   "cell_type": "code",
   "execution_count": null,
   "metadata": {},
   "outputs": [],
   "source": [
    "import pandas as pd\n",
    "# read the CSV file\n",
    "df = pd.read_csv(\"starbucks.csv\")\n",
    "# display the data in a table\n",
    "print(df)"
   ]
  }
 ],
 "metadata": {
  "kernelspec": {
   "display_name": "base",
   "language": "python",
   "name": "python3"
  },
  "language_info": {
   "codemirror_mode": {
    "name": "ipython",
    "version": 3
   },
   "file_extension": ".py",
   "mimetype": "text/x-python",
   "name": "python",
   "nbconvert_exporter": "python",
   "pygments_lexer": "ipython3",
   "version": "3.9.12"
  },
  "orig_nbformat": 4
 },
 "nbformat": 4,
 "nbformat_minor": 2
}
