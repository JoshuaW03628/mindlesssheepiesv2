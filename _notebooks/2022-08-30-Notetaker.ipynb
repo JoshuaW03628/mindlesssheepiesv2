{
 "cells": [
  {
   "cell_type": "markdown",
   "metadata": {},
   "source": [
    "# Lists & Dictionaries\n",
    "> This explains what lists and dictionaries are.\n",
    "- toc: true\n",
    "- branch: master\n",
    "- badges: true\n",
    "- comments: true\n",
    "- author: Josh Williams\n",
    "- permalink: /notebooks/notetaker\n",
    "- categories: [Notebooks]"
   ]
  },
  {
   "cell_type": "markdown",
   "metadata": {},
   "source": [
    "## Info DB"
   ]
  },
  {
   "cell_type": "code",
   "execution_count": 15,
   "metadata": {},
   "outputs": [
    {
     "name": "stdout",
     "output_type": "stream",
     "text": [
      "[{'FirstName': 'Josh', 'LastName': 'Williams', 'MiddleName': 'Benjamin', 'DOB': 'January 6', 'Residence': 'San Diego', 'Email': 'joshuawilliams52006@gmail.com', 'Owns_Cars': ['2011-Nissan Versa'], 'Favorite_Show': ['SpongeBob'], 'Favorite_Games': ['Apex-Legends']}, {'FirstName': 'Ryan', 'LastName': 'Mcweeny', 'MiddleName': 'Robert', 'DOB': 'March 27', 'Residence': 'San Diego', 'Email': 'N/A', 'Owns_Cars': ['2016 GMC Acadia'], 'Favorite_Show': ['SpongeBob'], 'Favorite_Games': ['Minecraft']}]\n"
     ]
    }
   ],
   "source": [
    "# Define an empty List called InfoDb\n",
    "InfoDb = []\n",
    "\n",
    "# Append to List a Dictionary of key/values related to a person and cars\n",
    "InfoDb.append({\n",
    "    \"FirstName\": \"Josh\",\n",
    "    \"LastName\": \"Williams\",\n",
    "    \"MiddleName\": \"Benjamin\",\n",
    "    \"DOB\": \"January 6\",\n",
    "    \"Residence\": \"San Diego\",\n",
    "    \"Email\": \"joshuawilliams52006@gmail.com\",\n",
    "    \"Owns_Cars\": [\"2011-Nissan Versa\"],\n",
    "    \"Favorite_Show\": [\"SpongeBob\"],\n",
    "    \"Favorite_Games\": [\"Apex-Legends\"]\n",
    "})\n",
    "\n",
    "# Append to List a 2nd Dictionary of key/values\n",
    "InfoDb.append({\n",
    "    \"FirstName\": \"Ryan\",\n",
    "    \"LastName\": \"Mcweeny\",\n",
    "    \"MiddleName\": \"Robert\",\n",
    "    \"DOB\": \"March 27\",\n",
    "    \"Residence\": \"San Diego\",\n",
    "    \"Email\": \"N/A\",\n",
    "    \"Owns_Cars\": [\"2016 GMC Acadia\"],\n",
    "    \"Favorite_Show\": [\"SpongeBob\"],\n",
    "    \"Favorite_Games\": [\"Minecraft\"]\n",
    "})\n",
    "\n",
    "# Print the data structure\n",
    "print(InfoDb)"
   ]
  },
  {
   "cell_type": "markdown",
   "metadata": {},
   "source": [
    "## For Loop\n",
    "\n",
    "This is a for loop example"
   ]
  },
  {
   "cell_type": "code",
   "execution_count": 21,
   "metadata": {},
   "outputs": [
    {
     "name": "stdout",
     "output_type": "stream",
     "text": [
      "For loop output\n",
      "\n",
      "Josh Benjamin Williams\n",
      "\t Residence: San Diego\n",
      "\t Birth Day: January 6\n",
      "\t Cars: 2011-Nissan Versa\n",
      "\t Fav Show: SpongeBob\n",
      "\t Fav Games: Apex-Legends\n",
      "Ryan Robert Mcweeny\n",
      "\t Residence: San Diego\n",
      "\t Birth Day: March 27\n",
      "\t Cars: 2016 GMC Acadia\n",
      "\t Fav Show: SpongeBob\n",
      "\t Fav Games: Minecraft\n"
     ]
    }
   ],
   "source": [
    "# given and index this will print InfoDb content\n",
    "def print_data(d_rec):\n",
    "    print(d_rec[\"FirstName\"], d_rec[\"MiddleName\"], d_rec[\"LastName\"])  # using comma puts space between values\n",
    "    print(\"\\t\", \"Residence:\", d_rec[\"Residence\"]) # \\t is a tab indent\n",
    "    print(\"\\t\", \"Birth Day:\", d_rec[\"DOB\"])\n",
    "    print(\"\\t\", \"Cars: \", end=\"\")  # end=\"\" make sure no return occurs\n",
    "    print(\", \".join(d_rec[\"Owns_Cars\"]))  # join allows printing a string list with separator\n",
    "    print(\"\\t\", \"Fav Show: \", end=\"\")\n",
    "    print(\", \".join(d_rec[\"Favorite_Show\"]))\n",
    "    print(\"\\t\", \"Fav Games: \", end=\"\")\n",
    "    print(\", \".join(d_rec[\"Favorite_Games\"]))\n",
    "\n",
    "# for loop iterates on length of InfoDb\n",
    "def for_loop():\n",
    "    print(\"For loop output\\n\")\n",
    "    for record in InfoDb:\n",
    "        print_data(record)\n",
    "\n",
    "for_loop()"
   ]
  },
  {
   "cell_type": "markdown",
   "metadata": {},
   "source": [
    "## Recursive Loop\n",
    "\n",
    "This is an Example of a Recursive Loop"
   ]
  },
  {
   "cell_type": "code",
   "execution_count": 17,
   "metadata": {},
   "outputs": [
    {
     "name": "stdout",
     "output_type": "stream",
     "text": [
      "\n",
      "Recursive loop output:\n",
      "\n",
      "Josh Benjamin Williams\n",
      "\t Residence: San Diego\n",
      "\t Birth Day: January 6\n",
      "\t Cars: 2011-Nissan Versa\n",
      "\t Fav Show: SpongeBob\n",
      "\t Fav Games: Apex-Legends\n",
      "Ryan Robert Mcweeny\n",
      "\t Residence: San Diego\n",
      "\t Birth Day: March 27\n",
      "\t Cars: 2016 GMC Acadia\n",
      "\t Fav Show: SpongeBob\n",
      "\t Fav Games: Minecraft\n"
     ]
    }
   ],
   "source": [
    "def recursive_loop(i):\n",
    "    if i < len(InfoDb):\n",
    "        record = InfoDb[i]\n",
    "        print_data(record)\n",
    "        recursive_loop(i + 1)\n",
    "    return\n",
    "\n",
    "print(\"\\nRecursive loop output:\\n\")\n",
    "recursive_loop(0)"
   ]
  },
  {
   "cell_type": "markdown",
   "metadata": {},
   "source": [
    "## While Loop\n",
    "\n",
    "This is an example of a while loop"
   ]
  },
  {
   "cell_type": "code",
   "execution_count": 18,
   "metadata": {},
   "outputs": [
    {
     "name": "stdout",
     "output_type": "stream",
     "text": [
      "While loop output\n",
      "\n",
      "Josh Benjamin Williams\n",
      "\t Residence: San Diego\n",
      "\t Birth Day: January 6\n",
      "\t Cars: 2011-Nissan Versa\n",
      "\t Fav Show: SpongeBob\n",
      "\t Fav Games: Apex-Legends\n",
      "Ryan Robert Mcweeny\n",
      "\t Residence: San Diego\n",
      "\t Birth Day: March 27\n",
      "\t Cars: 2016 GMC Acadia\n",
      "\t Fav Show: SpongeBob\n",
      "\t Fav Games: Minecraft\n"
     ]
    }
   ],
   "source": [
    "# while loop contains an initial n and an index incrementing statement (n += 1)\n",
    "def while_loop():\n",
    "    print(\"While loop output\\n\")\n",
    "    i = 0\n",
    "    while i < len(InfoDb):\n",
    "        record = InfoDb[i]\n",
    "        print_data(record)\n",
    "        i += 1\n",
    "    return\n",
    "\n",
    "while_loop()"
   ]
  },
  {
   "cell_type": "markdown",
   "metadata": {},
   "source": [
    "## Reverse List\n",
    "\n",
    "This is a Reverse List example"
   ]
  },
  {
   "cell_type": "code",
   "execution_count": 19,
   "metadata": {},
   "outputs": [
    {
     "name": "stdout",
     "output_type": "stream",
     "text": [
      "Regular List: ['1', '2', '3', '4', '5', '6']\n",
      "Reversed List: ['6', '5', '4', '3', '2', '1']\n"
     ]
    }
   ],
   "source": [
    "list = [\"1\", \"2\", \"3\", \"4\", \"5\", \"6\"]\n",
    "print('Regular List:', list)\n",
    "list.reverse()\n",
    "print('Reversed List:', list)"
   ]
  },
  {
   "cell_type": "markdown",
   "metadata": {},
   "source": [
    "## Fortnite Quiz"
   ]
  },
  {
   "cell_type": "code",
   "execution_count": 20,
   "metadata": {},
   "outputs": [
    {
     "name": "stdout",
     "output_type": "stream",
     "text": [
      "Take this quiz about planes.\n",
      "Whats the best game ever\n",
      "\n",
      "Incorrect, the answer was;  Fortnite\n",
      "Who is the best Fortnite player\n",
      "\n",
      "Incorrect, the answer was;  Ninja\n",
      "Whats the fortnite mascot\n",
      "\n",
      "Incorrect, the answer was;  A Llama\n",
      "What season did Josh Start Fortnite\n",
      "\n",
      "Incorrect, the answer was;  0\n",
      "You have finished the quiz with  0  out of  4  points!\n"
     ]
    }
   ],
   "source": [
    "question = [] # creates empty list\n",
    "\n",
    "question.append({ # adds dictionary with question and answer to list using .append\n",
    "    \"Question\": \"Whats the best game ever\",\n",
    "    \"Answer\": \"Fortnite\",\n",
    "})\n",
    "question.append({\n",
    "    \"Question\": \"Who is the best Fortnite player\",\n",
    "    \"Answer\": \"Ninja\",\n",
    "})\n",
    "question.append({\n",
    "    \"Question\": \"Whats the fortnite mascot\",\n",
    "    \"Answer\": \"A Llama\",\n",
    "})\n",
    "question.append({\n",
    "    \"Question\": \"What season did Josh Start Fortnite\",\n",
    "    \"Answer\": \"0\",\n",
    "})\n",
    "\n",
    "points = 0\n",
    "print(\"Take this quiz about planes.\")\n",
    "\n",
    "for i in question: # for loop repeats every time an answer is given\n",
    "    print(i[\"Question\"])\n",
    "    response = input(i[\"Question\"])\n",
    "    print(response)\n",
    "    \n",
    "    if response == i[\"Answer\"]:\n",
    "        points += 1\n",
    "        print(\"Correct, you have \", points, \" points!\")\n",
    "    else:\n",
    "        print(\"Incorrect, the answer was; \", i[\"Answer\"])\n",
    "\n",
    "print(\"You have finished the quiz with \", points, \" out of \", len(question), \" points!\")"
   ]
  }
 ],
 "metadata": {
  "kernelspec": {
   "display_name": "Python 3.9.12 ('base')",
   "language": "python",
   "name": "python3"
  },
  "language_info": {
   "codemirror_mode": {
    "name": "ipython",
    "version": 3
   },
   "file_extension": ".py",
   "mimetype": "text/x-python",
   "name": "python",
   "nbconvert_exporter": "python",
   "pygments_lexer": "ipython3",
   "version": "3.9.12"
  },
  "orig_nbformat": 4,
  "vscode": {
   "interpreter": {
    "hash": "fa0fc083a9a7b25dab36cbe71fb89b2f1907d4eced1698b208dea6977346b521"
   }
  }
 },
 "nbformat": 4,
 "nbformat_minor": 2
}
