{
 "cells": [
  {
   "attachments": {},
   "cell_type": "markdown",
   "metadata": {},
   "source": [
    "# Unit 4 Review\n",
    "> Reviewing Unit 4 \n",
    "- toc: true\n",
    "- categories: [Notebooks]\n",
    "- week: 30"
   ]
  },
  {
   "attachments": {},
   "cell_type": "markdown",
   "metadata": {},
   "source": [
    "# The Internet"
   ]
  },
  {
   "attachments": {},
   "cell_type": "markdown",
   "metadata": {},
   "source": [
    "Computers send and receive information using computer systems, computer networks, and packets. Computer systems are composed of hardware and software that enable them to process, store, and retrieve information. When a computer wants to send information to another computer, it needs to use a network, which is a collection of interconnected devices and communication channels that allow computers to exchange data."
   ]
  },
  {
   "attachments": {},
   "cell_type": "markdown",
   "metadata": {},
   "source": [
    "The data that is sent between computers is divided into small packets, each containing a piece of the overall message. Each packet contains information about its destination, source, and the order in which it should be assembled with other packets to reconstruct the original message. These packets are then sent over the network, passing through routers and switches along the way, until they reach their destination."
   ]
  },
  {
   "attachments": {},
   "cell_type": "markdown",
   "metadata": {},
   "source": [
    "Computer systems and networks facilitate the transfer of data by providing a standardized set of communication protocols that ensure that the information can be transmitted and received correctly. For example, the Transmission Control Protocol (TCP) is used to establish and maintain a connection between two computers, while the Internet Protocol (IP) is used to route packets through the network.\n",
    "\n"
   ]
  },
  {
   "attachments": {},
   "cell_type": "markdown",
   "metadata": {},
   "source": [
    "# Fault Tolerance"
   ]
  },
  {
   "attachments": {},
   "cell_type": "markdown",
   "metadata": {},
   "source": [
    "Fault tolerance is the ability of a system to continue functioning even if one or more of its components fail. This is an important consideration in computer systems and networks, where failures can lead to data loss, downtime, and other negative consequences. Fault tolerance is achieved through redundancy, which involves using multiple copies of critical components, such as servers, storage devices, or network links, so that if one fails, the others can take over its function without interruption.\n",
    "\n"
   ]
  },
  {
   "attachments": {},
   "cell_type": "markdown",
   "metadata": {},
   "source": [
    "# Parallel and Distributed Computing"
   ]
  },
  {
   "attachments": {},
   "cell_type": "markdown",
   "metadata": {},
   "source": [
    "Parallel computing involves using multiple processors or cores to perform computations simultaneously, while distributed computing involves dividing a computational task across multiple computers connected by a network. Both approaches can be used to speed up computation and improve scalability, but they require specialized software and hardware architectures to manage the coordination of the parallel or distributed tasks. Parallel and distributed computing are increasingly important in fields such as scientific computing, big data analytics, and machine learning, where large amounts of data need to be processed quickly and efficiently.\n",
    "\n",
    "\n",
    "\n"
   ]
  }
 ],
 "metadata": {
  "language_info": {
   "name": "python"
  },
  "orig_nbformat": 4
 },
 "nbformat": 4,
 "nbformat_minor": 2
}
