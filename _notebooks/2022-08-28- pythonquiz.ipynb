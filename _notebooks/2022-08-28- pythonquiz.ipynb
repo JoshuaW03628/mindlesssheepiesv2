{
 "cells": [
  {
   "cell_type": "markdown",
   "metadata": {},
   "source": [
    "# NBA Quiz\n",
    "> This is a jupyter notebook quiz\n",
    "- toc: true\n",
    "- branch: master\n",
    "- badges: true\n",
    "- comments: true\n",
    "- author: Josh Williams\n",
    "- permalink: /notebooks/pythonquiz\n",
    "- categories: [Notebooks]"
   ]
  },
  {
   "cell_type": "markdown",
   "metadata": {},
   "source": [
    "- toc: true\n",
    "- badges: true\n",
    "- comments: true\n",
    "- author: Josh Williams\n",
    "- categories: [fastpages,jupyter]"
   ]
  },
  {
   "cell_type": "code",
   "execution_count": 3,
   "metadata": {},
   "outputs": [
    {
     "name": "stdout",
     "output_type": "stream",
     "text": [
      "Hey! lebon\n",
      "This is easy!\n",
      "no\n",
      "Nice try! The answer is Lebron.\n",
      "no\n",
      "Nice try! The answer is Ja Morant.\n",
      "no\n",
      "Nice try! The answer is Steph Curry.\n",
      "no\n",
      "Nice try! The answer is Clippers.\n",
      "Congratulations! You completed the quiz. Your score is a: 0/4\n"
     ]
    }
   ],
   "source": [
    "score = 0\n",
    "questions = 4\n",
    "\n",
    "def q_a(q, a):\n",
    "    answer = input(q)\n",
    "    score = 0\n",
    "    print(ready)\n",
    "    if answer == a:\n",
    "        print(\"Good job! That is correct!\")\n",
    "        score = 1\n",
    "    else:\n",
    "        print(\"Nice try! The answer is \" + a + \".\")\n",
    "    return score\n",
    " \n",
    "#intro:\n",
    "name = input(\"Enter your name:\")\n",
    "print(\"Hey! \" + name)\n",
    "ready = input(\"This quiz will have \" + str(questions) + \" questions that will test your abilities to identify NBA basketball players based on their build and team. Are you ready to start this quiz? Answer yes or no.\")\n",
    "if ready == \"yes\":\n",
    "    print(\"Let's get started!\")\n",
    "else:\n",
    "    print(\"This is easy!\")\n",
    "\n",
    "#question 1:\n",
    "score = score + q_a(\"Question 1: What player is 6'9 and the started SF for the LA Lakers\", \"Lebron\")\n",
    "\n",
    "#question 2:\n",
    "score = score + q_a(\"Question 2: What player is the superstar for the memphis grizzlies?\", \"Ja Morant\")\n",
    "\n",
    "#question 3:\n",
    "score = score + q_a(\"Question 3: What player is the best shooter in the league currently?\", \"Stephen Curry\")\n",
    "\n",
    "#question 4:\n",
    "score = score + q_a(\"Question 4: What team is the best?\", \"Clippers\")\n",
    "#ending score\n",
    "if score >= 3:\n",
    "    print(\"Congratulations! You completed this quiz with an amazing score! You scored a: {}/4\" .format(score))\n",
    "else:\n",
    "    print(\"Congratulations! You completed the quiz. Your score is a: {}/4\" .format(score))"
   ]
  }
 ],
 "metadata": {
  "kernelspec": {
   "display_name": "Python 3.10.6 64-bit",
   "language": "python",
   "name": "python3"
  },
  "language_info": {
   "codemirror_mode": {
    "name": "ipython",
    "version": 3
   },
   "file_extension": ".py",
   "mimetype": "text/x-python",
   "name": "python",
   "nbconvert_exporter": "python",
   "pygments_lexer": "ipython3",
   "version": "3.10.6"
  },
  "orig_nbformat": 4,
  "vscode": {
   "interpreter": {
    "hash": "b0fa6594d8f4cbf19f97940f81e996739fb7646882a419484c72d19e05852a7e"
   }
  }
 },
 "nbformat": 4,
 "nbformat_minor": 2
}
