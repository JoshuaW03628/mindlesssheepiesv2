{
 "cells": [
  {
   "attachments": {},
   "cell_type": "markdown",
   "metadata": {},
   "source": [
    "#  4.3 Hacks\n",
    "> Answering questions from parallel computing lesson\n",
    "- toc: true\n",
    "- categories: [Notebooks]\n",
    "- week: 26\n",
    "- Title: 4.3 Hacks"
   ]
  },
  {
   "attachments": {},
   "cell_type": "markdown",
   "metadata": {},
   "source": [
    "![Agile Manifesto](/Users/josh/Repository-1/images/Example_1.png)"
   ]
  },
  {
   "attachments": {},
   "cell_type": "markdown",
   "metadata": {},
   "source": [
    "I think that it would be 50 seconds, I say this because the largest value of process time is 50 seconds, if the computers are running on parallel processing then it would take the longest time since all are running simultaniously."
   ]
  },
  {
   "attachments": {},
   "cell_type": "markdown",
   "metadata": {},
   "source": [
    "![Agile Manifesto](/Users/josh/Repository-1/images/Example_2.png)"
   ]
  },
  {
   "attachments": {},
   "cell_type": "markdown",
   "metadata": {},
   "source": [
    "If you run it with only 1 after the other it will inevitably take 70 seconds however if you run duplicate processors the minimum amount of time it will take is 45 seconds, because of process B"
   ]
  },
  {
   "attachments": {},
   "cell_type": "markdown",
   "metadata": {},
   "source": [
    "> Data Structures.  Build a List Comprehension example\n",
    "- list = [calc(item) for item in items]"
   ]
  },
  {
   "cell_type": "code",
   "execution_count": 8,
   "metadata": {},
   "outputs": [
    {
     "name": "stdout",
     "output_type": "stream",
     "text": [
      "[28.6, 27.7, 30.9, 22.9, 30.5]\n"
     ]
    }
   ],
   "source": [
    "# Example NBA player season stats\n",
    "nba_players = [\n",
    "    {'name': 'LeBron James', 'team': 'LAL', 'points': 2347, 'rebounds': 568, 'assists': 780},\n",
    "    {'name': 'Kevin Durant', 'team': 'BKN/PHX', 'points': 2270, 'rebounds': 697, 'assists': 657},\n",
    "    {'name': 'Steph Curry', 'team': 'GSW', 'points': 2530, 'rebounds': 468, 'assists': 877},\n",
    "    {'name': 'James Harden', 'team': 'PHI', 'points': 1875, 'rebounds': 376, 'assists': 965},\n",
    "    {'name': 'Joel Embiid', 'team': 'PHI', 'points': 2500, 'rebounds': 954, 'assists': 488}\n",
    "]\n",
    "\n",
    "# Define a function to calculate PPG\n",
    "def calc_ppg(player):\n",
    "    return player['points'] / 82 # Assuming 82 games per season\n",
    "\n",
    "# Use a list comprehension to calculate PPG for each player\n",
    "ppg_list = [calc_ppg(player) for player in nba_players]\n",
    "\n",
    "\n",
    "# Define a function to calculate PPG and round to 3 digits\n",
    "def calc_ppg(player):\n",
    "    return round(player['points'] / 82, 1) # Assuming 82 games per season, round to 3 digits\n",
    "\n",
    "ppg_list = [calc_ppg(player) for player in nba_players]\n",
    "print(ppg_list)"
   ]
  }
 ],
 "metadata": {
  "kernelspec": {
   "display_name": "base",
   "language": "python",
   "name": "python3"
  },
  "language_info": {
   "codemirror_mode": {
    "name": "ipython",
    "version": 3
   },
   "file_extension": ".py",
   "mimetype": "text/x-python",
   "name": "python",
   "nbconvert_exporter": "python",
   "pygments_lexer": "ipython3",
   "version": "3.9.12"
  },
  "orig_nbformat": 4
 },
 "nbformat": 4,
 "nbformat_minor": 2
}
