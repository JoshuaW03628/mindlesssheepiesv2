{
 "cells": [
  {
   "cell_type": "markdown",
   "metadata": {},
   "source": [
    "# Unit 3 Sections 12 and 13 lesson\n",
    "> Developing and Writing Procedures Lesson\n",
    "\n",
    "- title: Pre Tree Vocab\n",
    "- toc: true\n",
    "- badges: false\n",
    "- categories: [Pre-tree]"
   ]
  },
  {
   "cell_type": "markdown",
   "metadata": {},
   "source": [
    "# Unit 2 Vocab"
   ]
  },
  {
   "cell_type": "markdown",
   "metadata": {},
   "source": [
    "### Bits\n",
    " are the basic units of information in computing. They are typically represented as either 0 or 1, and can be combined to represent larger numbers and other types of data. For example, the number 101010 in binary is equivalent to the decimal number 42."
   ]
  },
  {
   "cell_type": "code",
   "execution_count": null,
   "metadata": {},
   "outputs": [],
   "source": []
  },
  {
   "cell_type": "markdown",
   "metadata": {},
   "source": [
    "### Bytes\n",
    " are a unit of measurement for digital information, typically consisting of 8 bits. For example, a single character in the ASCII character set can be represented using one byte."
   ]
  },
  {
   "cell_type": "code",
   "execution_count": null,
   "metadata": {},
   "outputs": [],
   "source": []
  },
  {
   "cell_type": "markdown",
   "metadata": {},
   "source": [
    "### Hexadecimal (also known as hex)\n",
    " is a numeral system that uses base 16 instead of base 10 like the decimal system. This means that instead of using the digits 0-9, hexadecimal uses the digits 0-9 and the letters A-F to represent numbers. Each digit in a hexadecimal number is called a \"nibble\", which is half of a byte. For example, the hexadecimal number 3F is equivalent to the decimal number 63."
   ]
  },
  {
   "cell_type": "code",
   "execution_count": null,
   "metadata": {},
   "outputs": [],
   "source": []
  },
  {
   "cell_type": "markdown",
   "metadata": {},
   "source": [
    "### Unsigned integer\n",
    " is a type of binary number that represents a non-negative whole number. It is called \"unsigned\" because it doesn't have a sign (+ or -) to indicate whether the number is positive or negative. For example, the number 101010 in binary is an unsigned integer."
   ]
  },
  {
   "cell_type": "code",
   "execution_count": null,
   "metadata": {},
   "outputs": [],
   "source": []
  },
  {
   "cell_type": "markdown",
   "metadata": {},
   "source": [
    "### Signed integer\n",
    " is a type of binary number that can represent both positive and negative numbers. It has a sign (+ or -) to indicate the sign of the number. For example, the number -42 in binary would be represented using a signed integer."
   ]
  },
  {
   "cell_type": "code",
   "execution_count": null,
   "metadata": {},
   "outputs": [],
   "source": []
  },
  {
   "cell_type": "markdown",
   "metadata": {},
   "source": [
    "### Floating point numbers \n",
    " are a type of binary number that can represent fractional values. They are typically used to represent numbers that have a decimal point, such as 3.14 or -2.71828."
   ]
  },
  {
   "cell_type": "code",
   "execution_count": null,
   "metadata": {},
   "outputs": [],
   "source": []
  },
  {
   "cell_type": "markdown",
   "metadata": {},
   "source": [
    "### Boolean data \n",
    " is a type of binary data that can only have two possible values: true or false. This data type is often used in programming languages to represent logical values or conditions. For example, a variable with a boolean value of true might represent that a certain condition is met, while a value of false might represent the opposite."
   ]
  },
  {
   "cell_type": "code",
   "execution_count": null,
   "metadata": {},
   "outputs": [],
   "source": []
  },
  {
   "cell_type": "markdown",
   "metadata": {},
   "source": [
    "### ASCII (American Standard Code for Information Interchange)\n",
    " is a character encoding standard that represents text using a set of 128 basic characters, including letters, numbers, and punctuation marks. For example, the ASCII code for the letter \"A\" is 65.\n",
    "\n"
   ]
  },
  {
   "cell_type": "code",
   "execution_count": null,
   "metadata": {},
   "outputs": [],
   "source": []
  },
  {
   "cell_type": "markdown",
   "metadata": {},
   "source": [
    "### Unicode\n",
    " is a character encoding standard that extends ASCII by providing a wider range of characters, including those from different languages and symbols. For example, the Unicode code for the Greek letter \"Δ\" (delta) is U+0394."
   ]
  },
  {
   "cell_type": "code",
   "execution_count": null,
   "metadata": {},
   "outputs": [],
   "source": []
  },
  {
   "cell_type": "markdown",
   "metadata": {},
   "source": [
    "### RGB (Red-Green-Blue) \n",
    " is a color model that represents colors using a combination of red, green, and blue light. Each color is represented by a value between 0 and 255, with 0 representing the absence of that color and 255 representing the maximum amount of that color. For example, the RGB value 255,0,0 represents the color red, while the value 0,255,0 represents the color green."
   ]
  },
  {
   "cell_type": "code",
   "execution_count": null,
   "metadata": {},
   "outputs": [],
   "source": []
  },
  {
   "cell_type": "markdown",
   "metadata": {},
   "source": [
    "### Lossy data compression\n",
    " is a type of data compression that reduces the size of a file by removing some of the data from the original file. This can result in a loss of quality in the compressed file, but can also achieve a much greater level of compression than lossless methods. For example, a lossy image compression algorithm might remove some of the fine details from an image in order to achieve a higher level of compression."
   ]
  },
  {
   "cell_type": "code",
   "execution_count": null,
   "metadata": {},
   "outputs": [],
   "source": []
  },
  {
   "cell_type": "markdown",
   "metadata": {},
   "source": [
    "### Lossless data compression \n",
    " is a type of data compression that reduces the size of a file without losing any of the data from the original file. This means that when the file is decompressed, it will be exactly the same as the original. Lossless data compression is often used for text files, audio files, and other types of data where it is important to preserve the integrity of the original information."
   ]
  },
  {
   "cell_type": "code",
   "execution_count": null,
   "metadata": {},
   "outputs": [],
   "source": []
  },
  {
   "cell_type": "markdown",
   "metadata": {},
   "source": [
    "# Unit 3 Vocab"
   ]
  },
  {
   "cell_type": "markdown",
   "metadata": {},
   "source": [
    "### Variables \n",
    " are named storage locations in a computer's memory that can hold different values at different times. In programming, variables are used to store data values that can be changed or used in various operations.\n",
    "\n"
   ]
  },
  {
   "cell_type": "code",
   "execution_count": null,
   "metadata": {},
   "outputs": [],
   "source": []
  },
  {
   "cell_type": "markdown",
   "metadata": {},
   "source": [
    "### Data types \n",
    " are the classification of different types of data that a variable can hold. Examples of data types include integers, floating-point numbers, characters, strings, and Boolean values (true or false)."
   ]
  },
  {
   "cell_type": "code",
   "execution_count": null,
   "metadata": {},
   "outputs": [],
   "source": []
  },
  {
   "cell_type": "markdown",
   "metadata": {},
   "source": [
    "### Assignment operators \n",
    " are used in programming to assign a value to a variable. For example, the equal sign (=) is used as an assignment operator in the following statement: x = 5, which assigns the value 5 to the variable x."
   ]
  },
  {
   "cell_type": "code",
   "execution_count": null,
   "metadata": {},
   "outputs": [],
   "source": []
  },
  {
   "cell_type": "markdown",
   "metadata": {},
   "source": [
    "### Lists, 2D lists, and dictionaries\n",
    " are data structures used to manage complexity in programs by allowing for the storage and organization of multiple values in a single variable."
   ]
  },
  {
   "cell_type": "code",
   "execution_count": null,
   "metadata": {},
   "outputs": [],
   "source": []
  },
  {
   "cell_type": "markdown",
   "metadata": {},
   "source": [
    "### Algorithms are sets of step-by-step instructions for solving a problem or completing a task."
   ]
  },
  {
   "cell_type": "code",
   "execution_count": null,
   "metadata": {},
   "outputs": [],
   "source": []
  },
  {
   "cell_type": "markdown",
   "metadata": {},
   "source": [
    "### Sequence, selection, and iteration\n",
    " are the three fundamental control structures used in programming to control the flow of execution of a program."
   ]
  },
  {
   "cell_type": "code",
   "execution_count": null,
   "metadata": {},
   "outputs": [],
   "source": []
  },
  {
   "cell_type": "markdown",
   "metadata": {},
   "source": [
    "### Expressions\n",
    " are combinations of variables, values, and operators that produce a result when evaluated."
   ]
  },
  {
   "cell_type": "code",
   "execution_count": null,
   "metadata": {},
   "outputs": [],
   "source": []
  },
  {
   "cell_type": "markdown",
   "metadata": {},
   "source": [
    "### Comparison operators\n",
    " are used to compare values in programming. They include equals (==), not equals (!=), greater than (>), less than (<), greater than or equal to (>=), and less than or equal to (<=).\n",
    "\n"
   ]
  },
  {
   "cell_type": "code",
   "execution_count": null,
   "metadata": {},
   "outputs": [],
   "source": []
  },
  {
   "cell_type": "markdown",
   "metadata": {},
   "source": [
    "### Boolean expressions\n",
    " are expressions that evaluate to either true or false. They are often used in selection and iteration control structures to control the flow of execution of a program."
   ]
  },
  {
   "cell_type": "code",
   "execution_count": null,
   "metadata": {},
   "outputs": [],
   "source": []
  },
  {
   "cell_type": "markdown",
   "metadata": {},
   "source": [
    "### Truth tables\n",
    " are used to represent the possible combinations of true and false values for a given Boolean expression."
   ]
  },
  {
   "cell_type": "code",
   "execution_count": null,
   "metadata": {},
   "outputs": [],
   "source": []
  },
  {
   "cell_type": "markdown",
   "metadata": {},
   "source": [
    "### Characters and strings\n",
    " are data types used to represent text in programming. A character is a single letter, number, or symbol, while a string is a sequence of characters.\n",
    "\n"
   ]
  },
  {
   "cell_type": "code",
   "execution_count": null,
   "metadata": {},
   "outputs": [],
   "source": []
  },
  {
   "cell_type": "markdown",
   "metadata": {},
   "source": [
    "### Concatenation\n",
    " is the operation of combining two or more strings into a single string.\n",
    "\n"
   ]
  },
  {
   "cell_type": "code",
   "execution_count": null,
   "metadata": {},
   "outputs": [],
   "source": []
  },
  {
   "cell_type": "markdown",
   "metadata": {},
   "source": [
    "### Upper and lower\n",
    " are string methods that convert all the characters in a string to uppercase or lowercase, respectively.\n",
    "\n"
   ]
  },
  {
   "cell_type": "code",
   "execution_count": null,
   "metadata": {},
   "outputs": [],
   "source": []
  },
  {
   "cell_type": "markdown",
   "metadata": {},
   "source": [
    "### Traversing a string\n",
    " means to access each character in the string one at a time. This is often done using a loop."
   ]
  },
  {
   "cell_type": "code",
   "execution_count": null,
   "metadata": {},
   "outputs": [],
   "source": []
  },
  {
   "cell_type": "markdown",
   "metadata": {},
   "source": [
    "### Python's if, elif, and else conditionals\n",
    " are used to control the flow of execution of a program based on the evaluation of Boolean expressions."
   ]
  },
  {
   "cell_type": "code",
   "execution_count": null,
   "metadata": {},
   "outputs": [],
   "source": []
  },
  {
   "cell_type": "markdown",
   "metadata": {},
   "source": [
    "### Nested selection statements\n",
    " are if, elif, and else statements that are placed within the body of another if, elif, or else statement."
   ]
  },
  {
   "cell_type": "code",
   "execution_count": null,
   "metadata": {},
   "outputs": [],
   "source": []
  },
  {
   "cell_type": "markdown",
   "metadata": {},
   "source": [
    "### Python's for and while loops\n",
    " are used to repeat a block of code multiple times. The for loop is used to iterate over a sequence of values, while the while loop is used to repeat a block of code until a certain condition is met."
   ]
  },
  {
   "cell_type": "code",
   "execution_count": null,
   "metadata": {},
   "outputs": [],
   "source": []
  },
  {
   "cell_type": "markdown",
   "metadata": {},
   "source": [
    "### Python's for and while loops \n",
    " are used to repeat a block of code multiple times. The for loop is used to iterate over a sequence of values, while the while loop is used to repeat a block of code until a certain condition is met."
   ]
  },
  {
   "cell_type": "code",
   "execution_count": null,
   "metadata": {},
   "outputs": [],
   "source": []
  },
  {
   "cell_type": "markdown",
   "metadata": {},
   "source": [
    "### Combining loops with conditionals\n",
    " allows for more complex control over the flow of execution of a program. The break and continue statements can be used within loops to control when the loop should stop executing or skip to the next iteration."
   ]
  },
  {
   "cell_type": "code",
   "execution_count": null,
   "metadata": {},
   "outputs": [],
   "source": []
  },
  {
   "cell_type": "markdown",
   "metadata": {},
   "source": [
    "### Procedural abstraction\n",
    " is the process of separating a large, complex problem into smaller, more manageable subproblems. In programming, this is often achieved using procedures, which are named blocks of code that can be called upon to perform a specific task."
   ]
  },
  {
   "cell_type": "code",
   "execution_count": null,
   "metadata": {},
   "outputs": [],
   "source": []
  },
  {
   "cell_type": "markdown",
   "metadata": {},
   "source": [
    "### In Python,\n",
    " procedures are defined using the def keyword, followed by the name of the procedure and any parameters that the procedure takes."
   ]
  },
  {
   "cell_type": "code",
   "execution_count": null,
   "metadata": {},
   "outputs": [],
   "source": [
    "def greet(name):\n",
    "    print(\"Hello, \" + name)\n"
   ]
  },
  {
   "cell_type": "markdown",
   "metadata": {},
   "source": [
    "### Parameters \n",
    "are the variables that are used to pass information into a procedure. In the example above, the name parameter is used to pass in the name of the person that the procedure should greet."
   ]
  },
  {
   "cell_type": "markdown",
   "metadata": {},
   "source": [
    "### Return values \n",
    " are the values that a procedure returns to the caller when it is finished executing."
   ]
  },
  {
   "cell_type": "code",
   "execution_count": null,
   "metadata": {},
   "outputs": [],
   "source": [
    "def add(x, y):\n",
    "    result = x + y\n",
    "    return result\n"
   ]
  }
 ],
 "metadata": {
  "kernelspec": {
   "display_name": "Python 3.9.12 ('base')",
   "language": "python",
   "name": "python3"
  },
  "language_info": {
   "name": "python",
   "version": "3.9.12"
  },
  "orig_nbformat": 4,
  "vscode": {
   "interpreter": {
    "hash": "fa0fc083a9a7b25dab36cbe71fb89b2f1907d4eced1698b208dea6977346b521"
   }
  }
 },
 "nbformat": 4,
 "nbformat_minor": 2
}
