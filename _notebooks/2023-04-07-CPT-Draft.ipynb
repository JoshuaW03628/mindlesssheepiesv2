{
 "cells": [
  {
   "attachments": {},
   "cell_type": "markdown",
   "metadata": {},
   "source": [
    "# CPT Draft\n",
    "> Lab will perform alterations on images, manipulate RGB values, and reduce the number of pixels.  College Board requires you to learn about Lossy and Lossless compression.  \n",
    "- toc: true\n",
    "- categories: [Notebooks]\n",
    "- week: 27"
   ]
  },
  {
   "attachments": {},
   "cell_type": "markdown",
   "metadata": {},
   "source": [
    "[CPT Video\n",
    "](https://www.youtube.com/watch?v=u1_yfAVJeaQ)"
   ]
  },
  {
   "attachments": {},
   "cell_type": "markdown",
   "metadata": {},
   "source": [
    "# Write-Up"
   ]
  },
  {
   "attachments": {},
   "cell_type": "markdown",
   "metadata": {},
   "source": [
    "- Describe Procedural Abstraction, discussion on code and abstraction techniques used: Frontend/Backend, Functions, Classes, etc\n",
    "- Describe Data Abstraction, discussion on data used and data structures to support project: JSON, Dictionaries, Lists, and/or Database Tables.\n",
    "- Describe Usage of Control Structures, ie Iteration and Conditional Statements. Areas where you use lists and interation in Frontend Display. Areas were you decide and execulte different paths of code, for instance Create vs Read vs Update vs Delete. Also, show a function where a different parameter or condition causes a differen result."
   ]
  },
  {
   "attachments": {},
   "cell_type": "markdown",
   "metadata": {},
   "source": [
    "Procedural Abstraction is a programming concept that involves breaking down a complex system into smaller, more manageable, and reusable pieces of code. It involves separating the code that performs a task from the code that implements that task.\n",
    "\n",
    "In the provided code, we can see examples of procedural abstraction in the use of functions to implement different tasks. For instance, we have functions such as randomNum(), guessNum(), and startgame(), which are all responsible for specific tasks in the game. These functions have been separated from the main code to make the main code easier to read and understand.\n"
   ]
  },
  {
   "attachments": {},
   "cell_type": "markdown",
   "metadata": {},
   "source": [
    "## Code Examples:"
   ]
  },
  {
   "attachments": {},
   "cell_type": "markdown",
   "metadata": {},
   "source": [
    "or instance, the randomNum() function generates a random number between 1 and 100, which is used as the number to be guessed."
   ]
  },
  {
   "cell_type": "code",
   "execution_count": null,
   "metadata": {},
   "outputs": [],
   "source": [
    "def randomNum():\n",
    "    # generates a random number between 1 and 100\n",
    "    return random.randint(1,100)"
   ]
  },
  {
   "attachments": {},
   "cell_type": "markdown",
   "metadata": {},
   "source": [
    "The function guessNum() handles the user input and checks if the guess is correct."
   ]
  },
  {
   "cell_type": "code",
   "execution_count": null,
   "metadata": {},
   "outputs": [],
   "source": [
    "def guessNum():\n",
    "    # handles the user input and checks if the guess is correct\n",
    "    guess = int(guessField.get())\n",
    "    if guess == number:\n",
    "        resultLabel.config(text=\"Congratulations! You guessed it!\")\n",
    "    elif guess < number:\n",
    "        resultLabel.config(text=\"Your guess is too low. Try again.\")\n",
    "    else:\n",
    "        resultLabel.config(text=\"Your guess is too high. Try again.\")\n"
   ]
  },
  {
   "attachments": {},
   "cell_type": "markdown",
   "metadata": {},
   "source": [
    "Finally, the startgame() function is called when the user clicks on the play button and initializes the game. This separation of code into smaller pieces that perform specific tasks makes the code more modular, easier to test and debug, and more maintainable."
   ]
  },
  {
   "cell_type": "code",
   "execution_count": null,
   "metadata": {},
   "outputs": [],
   "source": [
    "def startgame():\n",
    "    # called when the user clicks on the play button and initializes the game\n",
    "    global number\n",
    "    number = randomNum()\n",
    "    guessField.delete(0, 'end')\n",
    "    resultLabel.config(text=\"\")\n"
   ]
  },
  {
   "attachments": {},
   "cell_type": "markdown",
   "metadata": {},
   "source": [
    "### Abstraction techniques used in the provided code include:\n"
   ]
  },
  {
   "attachments": {},
   "cell_type": "markdown",
   "metadata": {},
   "source": [
    "Functions: Functions are used to separate the code that performs a task from the code that implements that task. They are used to break down complex tasks into smaller and more manageable pieces of code.\n"
   ]
  },
  {
   "cell_type": "code",
   "execution_count": null,
   "metadata": {},
   "outputs": [],
   "source": [
    "def add_numbers(num1, num2):\n",
    "    \"\"\"\n",
    "    This function adds two numbers and returns the result.\n",
    "    \"\"\"\n",
    "    return num1 + num2\n",
    "\n",
    "result = add_numbers(5, 7)\n",
    "print(result)  # Output: 12\n"
   ]
  },
  {
   "attachments": {},
   "cell_type": "markdown",
   "metadata": {},
   "source": [
    "Classes: Although there are no classes in the provided code, classes are also a form of procedural abstraction. They allow us to define objects with specific attributes and methods, which can be used to perform specific tasks.\n"
   ]
  },
  {
   "cell_type": "code",
   "execution_count": null,
   "metadata": {},
   "outputs": [],
   "source": [
    "class Person:\n",
    "    def __init__(self, name, age):\n",
    "        self.name = name\n",
    "        self.age = age\n",
    "        \n",
    "    def say_hello(self):\n",
    "        print(f\"Hello, my name is {self.name} and I am {self.age} years old.\")\n",
    "        \n",
    "person = Person(\"John\", 30)\n",
    "person.say_hello()  # Output: \"Hello, my name is John and I am 30 years old.\"\n"
   ]
  },
  {
   "attachments": {},
   "cell_type": "markdown",
   "metadata": {},
   "source": [
    "Libraries and APIs: Libraries and APIs can also be used as a form of procedural abstraction. They provide pre-built code that can be used to perform specific tasks, without the user having to understand how the code is implemented.Overall, the use of procedural abstraction in the provided code makes it easier to read, maintain, and test.\n"
   ]
  },
  {
   "cell_type": "code",
   "execution_count": null,
   "metadata": {},
   "outputs": [],
   "source": [
    "import requests\n",
    "\n",
    "response = requests.get(\"https://api.github.com/users/johndoe\")\n",
    "data = response.json()\n",
    "\n",
    "print(data[\"name\"])  # Output: \"John Doe\"\n"
   ]
  },
  {
   "attachments": {},
   "cell_type": "markdown",
   "metadata": {},
   "source": [
    "Data Abstraction is a programming concept that involves hiding the implementation details of data and exposing only the essential information. It involves creating a simplified representation of complex data structures that is easier to understand and work with.\n"
   ]
  },
  {
   "attachments": {},
   "cell_type": "markdown",
   "metadata": {},
   "source": [
    "In the provided code, we can see examples of data abstraction in the use of data structures such as JSON, dictionaries, and lists. For instance, the randomNum() function generates a random number between 1 and 100 and stores it in a global variable called randomNumber. This variable is then used in other functions to compare the user's input and determine if it matches the generated number."
   ]
  },
  {
   "cell_type": "code",
   "execution_count": null,
   "metadata": {},
   "outputs": [],
   "source": [
    "import random\n",
    "\n",
    "tokens = 25\n",
    "\n",
    "def randomNum():\n",
    "    global secret_number\n",
    "    secret_number = random.randint(1, 100)\n"
   ]
  },
  {
   "attachments": {},
   "cell_type": "markdown",
   "metadata": {},
   "source": [
    "In addition, the game tokens are represented as a numerical value that is stored in a global variable called tokens. The number of tokens is updated whenever the user makes a guess. These variables are simple representations of more complex data structures and are easier to work with."
   ]
  },
  {
   "attachments": {},
   "cell_type": "markdown",
   "metadata": {},
   "source": [
    "Abstraction techniques used in the provided code include:\n",
    "\n",
    "The function calculateTotalPrice abstracts away the specific details of how to calculate the total price of a shopping cart. The function takes a shopping cart as an input parameter, and then iterates through each item in the cart and calculates the total price by multiplying the price of each item with its quantity and adding it to the running total. This implementation detail is hidden from the calling code, which only needs to know how to call the calculateTotalPrice function and pass it a shopping cart.\n",
    "\n"
   ]
  },
  {
   "cell_type": "code",
   "execution_count": null,
   "metadata": {},
   "outputs": [],
   "source": [
    "function calculateTotalPrice(cart) {\n",
    "  let totalPrice = 0;\n",
    "  for (let item of cart) {\n",
    "    totalPrice += item.price * item.quantity;\n",
    "  }\n",
    "  return totalPrice;\n",
    "}\n"
   ]
  }
 ],
 "metadata": {
  "kernelspec": {
   "display_name": "base",
   "language": "python",
   "name": "python3"
  },
  "language_info": {
   "name": "python",
   "version": "3.9.12"
  },
  "orig_nbformat": 4
 },
 "nbformat": 4,
 "nbformat_minor": 2
}
