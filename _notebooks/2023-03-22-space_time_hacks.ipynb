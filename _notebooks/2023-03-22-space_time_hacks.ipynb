{
 "cells": [
  {
   "attachments": {},
   "cell_type": "markdown",
   "metadata": {},
   "source": [
    "#  Space/Time Hacks\n",
    ">  Computer Output, Timing, and Usage\n",
    "- toc: true\n",
    "- categories: [Notebooks]\n",
    "- week: 26"
   ]
  },
  {
   "attachments": {},
   "cell_type": "markdown",
   "metadata": {},
   "source": [
    "# Code Efficiency and Runtime\n",
    "While studying Code efficiency and runtime, I have discovered 4 things that affect the runtime of a code cell"
   ]
  },
  {
   "attachments": {},
   "cell_type": "markdown",
   "metadata": {},
   "source": [
    "### Algorithm Complexity:\n",
    "Algorithms that have a higher time complexity, such as those with nested loops or recursion, tend to take longer to execute compared to simpler algorithms. For example, an algorithm that has a time complexity of O(n^4) will take much longer to execute than an algorithm with a time complexity of O(n)."
   ]
  },
  {
   "attachments": {},
   "cell_type": "markdown",
   "metadata": {},
   "source": [
    "### O(n)"
   ]
  },
  {
   "cell_type": "code",
   "execution_count": null,
   "metadata": {},
   "outputs": [],
   "source": [
    "import time\n",
    "\n",
    "def linear_search(arr, target):\n",
    "    start = time.time()\n",
    "    n = len(arr)\n",
    "    for i in range(n):\n",
    "        if arr[i] == target:\n",
    "            end = time.time()\n",
    "            print(f\"Time taken: {end - start}\")\n",
    "            return i\n",
    "    end = time.time()\n",
    "    print(f\"Time taken: {end - start}\")\n",
    "    return -1\n",
    "\n",
    "arr = [1, 2, 3, 4, 5, 6, 7, 8, 9, 10]\n",
    "target = 7\n",
    "index = linear_search(arr, target)\n",
    "print(f\"Target {target} found at index {index}\")\n"
   ]
  },
  {
   "attachments": {},
   "cell_type": "markdown",
   "metadata": {},
   "source": [
    "### O(n^4)"
   ]
  },
  {
   "cell_type": "code",
   "execution_count": null,
   "metadata": {},
   "outputs": [],
   "source": [
    "import time\n",
    "\n",
    "def slow_algorithm(n):\n",
    "    start = time.time()\n",
    "    result = 0\n",
    "    for i in range(n):\n",
    "        for j in range(n):\n",
    "            for k in range(n):\n",
    "                for l in range(n):\n",
    "                    result += i + j * k - l\n",
    "    end = time.time()\n",
    "    print(f\"Time taken: {end - start}\")\n",
    "    return result\n",
    "\n",
    "slow_algorithm(100)"
   ]
  },
  {
   "attachments": {},
   "cell_type": "markdown",
   "metadata": {},
   "source": [
    "### Input Data Size:\n",
    "The time taken by an algorithm can also depend on the size of the input data. Algorithms that process larger amounts of data tend to take longer to execute than those that process smaller amounts of data. For example, a sorting algorithm that sorts a list of 10,000 items will take longer to execute than one that sorts a list of 10 items."
   ]
  },
  {
   "cell_type": "code",
   "execution_count": null,
   "metadata": {},
   "outputs": [],
   "source": [
    "import random\n",
    "import time\n",
    "\n",
    "def sort_list(list_size):\n",
    "    # Generate a list of random integers with the specified size\n",
    "    my_list = [random.randint(1, 100) for _ in range(list_size)]\n",
    "\n",
    "    # Time how long it takes to sort the list\n",
    "    start_time = time.time()\n",
    "    sorted_list = sorted(my_list)\n",
    "    end_time = time.time()\n",
    "\n",
    "    # Print the sorted list and the time taken to sort it\n",
    "    print(f\"Sorted list of size {list_size}: {sorted_list}\")\n",
    "    print(f\"Time taken to sort: {end_time - start_time} seconds\")\n"
   ]
  },
  {
   "cell_type": "code",
   "execution_count": null,
   "metadata": {},
   "outputs": [],
   "source": [
    "sort_list(10)       # Should be pretty fast"
   ]
  },
  {
   "cell_type": "code",
   "execution_count": null,
   "metadata": {},
   "outputs": [],
   "source": [
    "sort_list(1000000)     # Should take a bit longer"
   ]
  },
  {
   "cell_type": "code",
   "execution_count": null,
   "metadata": {},
   "outputs": [],
   "source": [
    "sort_list(5000000)    # Should take even longer"
   ]
  },
  {
   "attachments": {},
   "cell_type": "markdown",
   "metadata": {},
   "source": [
    "### Programming Language Efficiency: \n",
    "Some programming languages are inherently more efficient than others, and algorithms implemented in these languages tend to execute faster. For example, C++ is generally faster than Python because it is a compiled language and has lower overhead.\n",
    "\n"
   ]
  },
  {
   "attachments": {},
   "cell_type": "markdown",
   "metadata": {},
   "source": [
    "### Hardware:\n",
    "The underlying hardware also plays a role in the time taken by an algorithm. Faster processors and more memory can lead to faster execution times.\n",
    "\n"
   ]
  },
  {
   "attachments": {},
   "cell_type": "markdown",
   "metadata": {},
   "source": [
    "## Basic Research on Sorting Algorithms"
   ]
  },
  {
   "attachments": {},
   "cell_type": "markdown",
   "metadata": {},
   "source": [
    "- Bubble sort:\n",
    "Bubble sort is a simple sorting algorithm that repeatedly compares adjacent elements and swaps them if they are in the wrong order. The time complexity of bubble sort is O(n^2), which means that it is not very efficient for large input sizes.\n",
    "\n",
    "- Selection sort:\n",
    "Selection sort is another simple sorting algorithm that works by repeatedly finding the minimum element from the unsorted part of the list and moving it to the beginning of the list. The time complexity of selection sort is O(n^2), which is not very efficient for large input sizes.\n",
    "\n",
    "- Insertion sort:\n",
    "Insertion sort is a simple sorting algorithm that builds the final sorted list one item at a time. It works by comparing each item with those before it and swapping them if they are in the wrong order. The time complexity of insertion sort is O(n^2), which is not very efficient for large input sizes.\n",
    "\n",
    "- Merge sort:\n",
    "Merge sort is a divide-and-conquer algorithm that recursively divides the input list into smaller sub-lists until each sub-list contains only one element. It then merges these sub-lists back together in sorted order. The time complexity of merge sort is O(n log n), which makes it more efficient than the previous algorithms for large input sizes.\n",
    "\n",
    "- Quick sort:\n",
    "Quick sort is another divide-and-conquer algorithm that works by selecting a \"pivot\" element from the input list and partitioning the other elements into two sub-lists, according to whether they are less than or greater than the pivot. The sub-lists are then recursively sorted. The time complexity of quick sort is O(n log n), which makes it more efficient than the previous algorithms for large input sizes.\n",
    "\n",
    "- Heap sort:\n",
    "Heap sort is another divide-and-conquer algorithm that works by first arranging the elements of the list into a binary heap. It then repeatedly extracts the maximum element from the heap and rebuilds the heap until the list is sorted. The time complexity of heap sort is O(n log n), which makes it more efficient than the previous algorithms for large input sizes.\n",
    "\n",
    "Overall, the most efficient sorting algorithms for large input sizes are merge sort, quick sort, and heap sort, all of which have a time complexity of O(n log n). However, bubble sort, selection sort, and insertion sort are still useful for small input sizes or when simplicity is more important than efficiency.\n",
    "\n",
    "\n",
    "\n",
    "\n",
    "\n"
   ]
  },
  {
   "attachments": {},
   "cell_type": "markdown",
   "metadata": {},
   "source": [
    "## Why is time and space complexity important when choosing an algorithm?\n"
   ]
  },
  {
   "attachments": {},
   "cell_type": "markdown",
   "metadata": {},
   "source": [
    "Time and space complexity are important factors to consider when choosing an algorithm because they affect the efficiency and scalability of the algorithm.\n",
    "\n",
    "Time complexity refers to the amount of time an algorithm takes to complete as the size of the input data grows. In other words, it measures how the algorithm's runtime grows with increasing input size. An algorithm with a lower time complexity is generally faster and more efficient than an algorithm with a higher time complexity. Therefore, when choosing an algorithm, it's important to consider the time complexity to ensure that it can handle the size of the input data and perform well in a reasonable amount of time.\n",
    "\n",
    "Space complexity, on the other hand, refers to the amount of memory an algorithm requires to complete as the size of the input data grows. In other words, it measures how the algorithm's memory usage grows with increasing input size. An algorithm with lower space complexity is generally more memory efficient and can handle larger input sizes than an algorithm with a higher space complexity. Therefore, when choosing an algorithm, it's important to consider the space complexity to ensure that it can handle the available memory resources and perform well in a reasonable amount of time.\n",
    "\n",
    "Choosing an algorithm with an appropriate time and space complexity can significantly impact the performance and efficiency of a program. In general, the goal is to find an algorithm that can handle the largest input size with the fastest runtime and lowest memory usage possible."
   ]
  },
  {
   "attachments": {},
   "cell_type": "markdown",
   "metadata": {},
   "source": [
    "## Should you always use a constant time algorithm / Should you never use an exponential time algorithm? Explain?\n"
   ]
  },
  {
   "attachments": {},
   "cell_type": "markdown",
   "metadata": {},
   "source": [
    "No, you should not always use a constant time algorithm or never use an exponential time algorithm. The choice of algorithm depends on the problem at hand and the constraints of the system it's being run on.\n",
    "\n",
    "A constant time algorithm has a time complexity that does not depend on the size of the input data. This means that the algorithm takes the same amount of time to complete regardless of the input size. Constant time algorithms are generally preferred because they are efficient and predictable. However, not all problems can be solved using a constant time algorithm, and sometimes the problem size may grow beyond what a constant time algorithm can handle efficiently.\n",
    "\n",
    "An exponential time algorithm has a time complexity that grows exponentially with the size of the input data. This means that the algorithm may take an extremely long time to complete as the input size increases. Exponential time algorithms are generally not preferred because they are inefficient and can quickly become impractical for larger input sizes. However, sometimes exponential time algorithms are the only known solution for a particular problem, and in these cases, they may be the best option available.\n",
    "\n",
    "Ultimately, the choice of algorithm depends on a variety of factors, including the size and complexity of the input data, the desired runtime and memory constraints, and the available computational resources. It's important to carefully analyze these factors and choose the most appropriate algorithm for the specific problem and situation."
   ]
  },
  {
   "attachments": {},
   "cell_type": "markdown",
   "metadata": {},
   "source": [
    "## What are some general patterns that you noticed to determine each algorithm's time and space complexity?\n"
   ]
  },
  {
   "attachments": {},
   "cell_type": "markdown",
   "metadata": {},
   "source": [
    "There are several general patterns that can be used to determine the time and space complexity of an algorithm:\n",
    "\n",
    "Loops: If an algorithm has one or more loops that iterate over the input data, the time complexity is often proportional to the number of iterations. For example, a loop that iterates n times has a time complexity of O(n).\n",
    "\n",
    "Recursion: If an algorithm uses recursion, the time complexity is often related to the number of recursive calls that are made. For example, if a recursive function is called k times, each with a problem size that is reduced by a constant factor c, the time complexity is O(c^k).\n",
    "\n",
    "Sorting: Sorting algorithms have a time complexity that is often related to the size of the input data. For example, the time complexity of bubble sort and insertion sort is O(n^2), while the time complexity of merge sort and quicksort is O(n log n).\n",
    "\n",
    "Data structures: The time and space complexity of an algorithm can be affected by the data structures it uses. For example, using a hash table to store and look up data can provide constant time complexity, while using a binary search tree can provide logarithmic time complexity.\n",
    "\n",
    "Divide and conquer: Algorithms that use a divide and conquer strategy often have a time complexity that is related to the number of recursive calls made, and the size of the sub-problems that are solved. For example, the time complexity of the binary search algorithm is O(log n), where n is the size of the input data.\n",
    "\n",
    "These are just a few examples of general patterns that can be used to determine the time and space complexity of an algorithm. It's important to analyze the specific characteristics of each algorithm to accurately determine its time and space complexity."
   ]
  },
  {
   "attachments": {},
   "cell_type": "markdown",
   "metadata": {},
   "source": [
    "## Time & Space Complexity Analysis Questions."
   ]
  },
  {
   "attachments": {},
   "cell_type": "markdown",
   "metadata": {},
   "source": [
    "#### 1. What is the time, and space complexity of the following code: \n",
    " \n",
    "\n",
    "int a = 0, b = 0;\n",
    "for (i = 0; i < N; i++) {\n",
    "    a = a + rand();\n",
    "}\n",
    "for (j = 0; j < M; j++) {\n",
    "    b = b + rand();\n",
    "}\n",
    "Options:  \n",
    "\n",
    "- O(N * M) time, O(1) space\n",
    "- O(N + M) time, O(N + M) space\n",
    "- O(N + M) time, O(1) space\n",
    "- O(N * M) time, O(N + M) space\n",
    "\n",
    "Answer: 3. O(N + M) time, O(1) space"
   ]
  },
  {
   "attachments": {},
   "cell_type": "markdown",
   "metadata": {},
   "source": [
    "#### 2. What is the time complexity of the following code: \n",
    " \n",
    "\n",
    "int a = 0;\n",
    "for (i = 0; i < N; i++) {\n",
    "    for (j = N; j > i; j--) {\n",
    "        a = a + i + j;\n",
    "    }\n",
    "}\n",
    "Options:\n",
    "\n",
    "- O(N)\n",
    "- O(N*log(N))\n",
    "- O(N * Sqrt(N))\n",
    "- O(N*N)\n",
    "\n",
    "Answer: 4. O(N*N)\n"
   ]
  },
  {
   "attachments": {},
   "cell_type": "markdown",
   "metadata": {},
   "source": [
    "#### 3. What is the time complexity of the following code: \n",
    "\n",
    "int i, j, k = 0;\n",
    "for (i = n / 2; i <= n; i++) {\n",
    "    for (j = 2; j <= n; j = j * 2) {\n",
    "        k = k + n / 2;\n",
    "    }\n",
    "} \n",
    " \n",
    "\n",
    "- O(n)\n",
    "- O(N log N)\n",
    "- O(n^2)\n",
    "- O(n^2Logn)\n",
    "\n",
    "Answer: 2. O(nLogn)\n"
   ]
  },
  {
   "attachments": {},
   "cell_type": "markdown",
   "metadata": {},
   "source": [
    "#### 4. What does it mean when we say that an algorithm X is asymptotically more efficient than Y? \n",
    " \n",
    "\n",
    "- X will always be a better choice for small inputs\n",
    "- X will always be a better choice for large inputs\n",
    "- Y will always be a better choice for small inputs\n",
    "- X will always be a better choice for all inputs\n",
    "\n",
    "Answer: 2. X will always be a better choice for large inputs"
   ]
  },
  {
   "attachments": {},
   "cell_type": "markdown",
   "metadata": {},
   "source": [
    "#### 5. What is the time complexity of the following code:\n",
    "\n",
    " \n",
    "\n",
    "int a = 0, i = N;\n",
    "while (i > 0) {\n",
    "    a += i;\n",
    "    i /= 2;\n",
    "}\n",
    "Options: \n",
    " \n",
    "\n",
    "- O(N)\n",
    "- O(Sqrt(N))\n",
    "- O(N / 2)\n",
    "- O(log N)\n",
    "\n",
    "Answer: 4. O(log N)"
   ]
  },
  {
   "attachments": {},
   "cell_type": "markdown",
   "metadata": {},
   "source": [
    "#### 6. Which of the following best describes the useful criterion for comparing the efficiency of algorithms?\n",
    "\n",
    "- Time\n",
    "- Memory\n",
    "- Both of the above\n",
    "- None of the above\n",
    "\n",
    "Answer: 3. Both of the above"
   ]
  },
  {
   "attachments": {},
   "cell_type": "markdown",
   "metadata": {},
   "source": [
    "#### 7. How is time complexity measured?\n",
    "\n",
    "- By counting the number of algorithms in an algorithm.\n",
    "- By counting the number of primitive operations performed by the algorithm on a given input size.\n",
    "- By counting the size of data input to the algorithm.\n",
    "- None of the above\n",
    "\n",
    "Answer: 2. By counting the number of primitive operations performed by the algorithm on a given input size."
   ]
  },
  {
   "attachments": {},
   "cell_type": "markdown",
   "metadata": {},
   "source": [
    "#### 8. What will be the time complexity of the following code?\n",
    "\n",
    "\n",
    "for(var i=0;i<n;i++)\n",
    "    i*=k\n",
    "\n",
    "- O(n)\n",
    "- O(k)\n",
    "- O(logkn)\n",
    "- O(lognk)\n",
    "\n",
    "Answer: 3. O(logkn)"
   ]
  },
  {
   "attachments": {},
   "cell_type": "markdown",
   "metadata": {},
   "source": [
    "#### 9. What will be the time complexity of the following code?\n",
    "\n",
    "\n",
    "int value = 0;\n",
    "for(int i=0;i<n;i++)\n",
    "    for(int j=0;j<i;j++)\n",
    "      value += 1;\n",
    "- n\n",
    "- (n+1)\n",
    "- n(n-1)\n",
    "- n(n+1)\n",
    "\n",
    "Answer: 3. n(n-1)"
   ]
  },
  {
   "attachments": {},
   "cell_type": "markdown",
   "metadata": {},
   "source": [
    "#### 10.  Algorithm A and B have a worst-case running time of O(n) and O(logn), respectively. Therefore, algorithm B always runs faster than algorithm A.\n",
    "\n",
    "- True or\n",
    "False\n",
    "\n",
    "Answer: False\n"
   ]
  }
 ],
 "metadata": {
  "kernelspec": {
   "display_name": "base",
   "language": "python",
   "name": "python3"
  },
  "language_info": {
   "codemirror_mode": {
    "name": "ipython",
    "version": 3
   },
   "file_extension": ".py",
   "mimetype": "text/x-python",
   "name": "python",
   "nbconvert_exporter": "python",
   "pygments_lexer": "ipython3",
   "version": "3.9.12"
  },
  "orig_nbformat": 4
 },
 "nbformat": 4,
 "nbformat_minor": 2
}
