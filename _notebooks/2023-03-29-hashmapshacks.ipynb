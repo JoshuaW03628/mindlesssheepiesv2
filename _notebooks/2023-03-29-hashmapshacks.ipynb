{
 "cells": [
  {
   "cell_type": "code",
   "execution_count": 6,
   "metadata": {},
   "outputs": [
    {
     "name": "stdout",
     "output_type": "stream",
     "text": [
      "{'coach': 'Steve Kerr', 'player': 'Stephen Curry', 'year': 2023, 'team': 'Warriors', 'last_games': {1: '29,4,8', 2: '37,2,7', 3: '25,8,8', 4: '20,5,5', 5: '33,9,9', 6: '27,6,5'}}\n"
     ]
    }
   ],
   "source": [
    "# Creating a dictionary with information about the album \"Lover\"\n",
    "curry_l5 = {\n",
    "    \"coach\": \"Steve Kerr\",\n",
    "    \"player\": \"Stephen Curry\",\n",
    "    \"year\": 2023,\n",
    "    \"team\": \"Warriors\",  \n",
    "    \"last_games\": {\n",
    "        1: \"29,4,8\",\n",
    "        2: \"37,2,7\",\n",
    "        3: \"25,8,8\",\n",
    "        4: \"20,5,5\",\n",
    "        5: \"33,9,9\",\n",
    "    }\n",
    "}\n",
    "\n",
    "# Adding a new key-value pair to the \"Last Games\" dictionary\n",
    "curry_l5[\"last_games\"][6] = \"27,6,5\"\n",
    "\n",
    "# Printing the dictionary\n",
    "print(curry_l5)\n"
   ]
  },
  {
   "cell_type": "code",
   "execution_count": null,
   "metadata": {},
   "outputs": [],
   "source": [
    "# Retrieve value from dictionary with key\n",
    "print(curry_l5.get('last_games'))"
   ]
  },
  {
   "cell_type": "code",
   "execution_count": null,
   "metadata": {},
   "outputs": [],
   "source": [
    "# Retrieve value from a dictionary inside a dictionary\n",
    "print(curry_l5.get('last_games')[1])"
   ]
  },
  {
   "cell_type": "code",
   "execution_count": null,
   "metadata": {},
   "outputs": [],
   "source": [
    "# adding a value with a new key\n",
    "curry_l5[\"last_games\"] = ['25,7,3','37,8,8','25,7,3','22, 10, 10']\n",
    "curry_games = set (['25, 7, 3', '37, 8, 8', '22, 10, 10'])\n",
    "# What can you change to make sure there are no duplicate producers?\n",
    "# Use a \"set\"\n",
    "# make sure there aren't any in the first place\n",
    "\n",
    "# Printing the dictionary\n",
    "print(curry_games)"
   ]
  },
  {
   "cell_type": "code",
   "execution_count": 7,
   "metadata": {},
   "outputs": [
    {
     "name": "stdout",
     "output_type": "stream",
     "text": [
      "{'coach': 'Steve Kerr', 'player': 'Stephen Curry', 'year': 2023, 'team': 'Warriors', 'last_games': {1: '29,4,8', 2: '37,2,7', 3: '25,8,8', 4: '20,5,5', 5: '33,9,9', 6: '35, 6, 5'}}\n"
     ]
    }
   ],
   "source": [
    "# Updating the \"Last Games\" dictionary with a new value for key 6\n",
    "curry_l5[\"last_games\"].update({6: \"35, 6, 5\"})\n",
    "\n",
    "# Printing the updated dictionary\n",
    "print(curry_l5)\n"
   ]
  },
  {
   "cell_type": "code",
   "execution_count": 8,
   "metadata": {},
   "outputs": [
    {
     "name": "stdout",
     "output_type": "stream",
     "text": [
      "coach: Steve Kerr\n",
      "player: Stephen Curry\n",
      "year: 2023\n",
      "team: Warriors\n",
      "last_games: {1: '29,4,8', 2: '37,2,7', 3: '25,8,8', 4: '20,5,5', 5: '33,9,9', 6: '35, 6, 5'}\n"
     ]
    }
   ],
   "source": [
    "# Print lover_album in more readable format\n",
    "for k,v in curry_l5.items(): # iterate using a for loop for key and value\n",
    "    print(str(k) + \": \" + str(v))\n",
    "\n",
    "# Write your own code to print tracks in readable format\n",
    "# for k,v in josh_set.items():\n",
    "    # print(str(k) + \": \" + str(v))\n"
   ]
  },
  {
   "cell_type": "code",
   "execution_count": 11,
   "metadata": {},
   "outputs": [
    {
     "name": "stdout",
     "output_type": "stream",
     "text": [
      "{1: '29,4,8', 2: '37,2,7', 3: '25,8,8', 4: '20,5,5', 5: '33,9,9', 6: '35, 6, 5'}\n"
     ]
    }
   ],
   "source": [
    "# Using conditionals to retrieve a random song\n",
    "def search():\n",
    "    search = input(\"What would you like to know about curry?\")\n",
    "    if curry_l5.get(search.lower()) == None:\n",
    "        print(\"Invalid Search\")\n",
    "    else:\n",
    "        print(curry_l5.get(search.lower()))\n",
    "\n",
    "search()\n",
    "\n",
    "# This is a very basic code segment, how can you improve upon this code?\n",
    "# dd more error handling, In the current implementation, if the user enters an invalid search term, they simply receive an \"Invalid Search\" message. You could improve the code by providing more specific error messages, or by prompting the user to enter a valid search term.\n",
    "# Use a loop to allow for multiple searches: Currently, the code only allows for one search. You could modify the code to allow the user to perform multiple searches without having to restart the program."
   ]
  },
  {
   "cell_type": "code",
   "execution_count": null,
   "metadata": {},
   "outputs": [],
   "source": []
  }
 ],
 "metadata": {
  "kernelspec": {
   "display_name": "base",
   "language": "python",
   "name": "python3"
  },
  "language_info": {
   "codemirror_mode": {
    "name": "ipython",
    "version": 3
   },
   "file_extension": ".py",
   "mimetype": "text/x-python",
   "name": "python",
   "nbconvert_exporter": "python",
   "pygments_lexer": "ipython3",
   "version": "3.9.12"
  },
  "orig_nbformat": 4
 },
 "nbformat": 4,
 "nbformat_minor": 2
}
