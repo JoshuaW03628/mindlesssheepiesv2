{
 "cells": [
  {
   "cell_type": "markdown",
   "id": "a27abca1",
   "metadata": {},
   "source": [
    "# Going Over the Basics of JavaScript\n",
    "\n",
    "JavaScript is the worlds most use coding language making it a valuable learning experience. Here are some basics that will help you start using JavaScript."
   ]
  },
  {
   "cell_type": "code",
   "execution_count": null,
   "metadata": {},
   "outputs": [],
   "source": []
  }
 ],
 "metadata": {
  "kernelspec": {
   "display_name": "Python 3.9.12 ('base')",
   "language": "python",
   "name": "python3"
  },
  "language_info": {
   "name": "python",
   "version": "3.9.12"
  },
  "vscode": {
   "interpreter": {
    "hash": "fa0fc083a9a7b25dab36cbe71fb89b2f1907d4eced1698b208dea6977346b521"
   }
  }
 },
 "nbformat": 4,
 "nbformat_minor": 5
}
